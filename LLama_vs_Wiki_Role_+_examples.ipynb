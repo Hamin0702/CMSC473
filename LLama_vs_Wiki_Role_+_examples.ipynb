{
  "nbformat": 4,
  "nbformat_minor": 0,
  "metadata": {
    "colab": {
      "provenance": []
    },
    "kernelspec": {
      "name": "python3",
      "display_name": "Python 3"
    },
    "language_info": {
      "name": "python"
    }
  },
  "cells": [
    {
      "cell_type": "code",
      "source": [
        "!pip install replicate\n",
        "\n",
        "import replicate\n",
        "import os"
      ],
      "metadata": {
        "colab": {
          "base_uri": "https://localhost:8080/"
        },
        "id": "oWx6XfjZJb5g",
        "outputId": "7354eef7-3ae1-4e62-c06b-60bef0685c4e"
      },
      "execution_count": 1,
      "outputs": [
        {
          "output_type": "stream",
          "name": "stdout",
          "text": [
            "Collecting replicate\n",
            "  Downloading replicate-0.26.0-py3-none-any.whl (40 kB)\n",
            "\u001b[2K     \u001b[90m━━━━━━━━━━━━━━━━━━━━━━━━━━━━━━━━━━━━━━━━\u001b[0m \u001b[32m40.0/40.0 kB\u001b[0m \u001b[31m911.4 kB/s\u001b[0m eta \u001b[36m0:00:00\u001b[0m\n",
            "\u001b[?25hCollecting httpx<1,>=0.21.0 (from replicate)\n",
            "  Downloading httpx-0.27.0-py3-none-any.whl (75 kB)\n",
            "\u001b[2K     \u001b[90m━━━━━━━━━━━━━━━━━━━━━━━━━━━━━━━━━━━━━━━━\u001b[0m \u001b[32m75.6/75.6 kB\u001b[0m \u001b[31m5.5 MB/s\u001b[0m eta \u001b[36m0:00:00\u001b[0m\n",
            "\u001b[?25hRequirement already satisfied: packaging in /usr/local/lib/python3.10/dist-packages (from replicate) (24.0)\n",
            "Requirement already satisfied: pydantic>1.10.7 in /usr/local/lib/python3.10/dist-packages (from replicate) (2.7.1)\n",
            "Requirement already satisfied: typing-extensions>=4.5.0 in /usr/local/lib/python3.10/dist-packages (from replicate) (4.11.0)\n",
            "Requirement already satisfied: anyio in /usr/local/lib/python3.10/dist-packages (from httpx<1,>=0.21.0->replicate) (3.7.1)\n",
            "Requirement already satisfied: certifi in /usr/local/lib/python3.10/dist-packages (from httpx<1,>=0.21.0->replicate) (2024.2.2)\n",
            "Collecting httpcore==1.* (from httpx<1,>=0.21.0->replicate)\n",
            "  Downloading httpcore-1.0.5-py3-none-any.whl (77 kB)\n",
            "\u001b[2K     \u001b[90m━━━━━━━━━━━━━━━━━━━━━━━━━━━━━━━━━━━━━━━━\u001b[0m \u001b[32m77.9/77.9 kB\u001b[0m \u001b[31m6.7 MB/s\u001b[0m eta \u001b[36m0:00:00\u001b[0m\n",
            "\u001b[?25hRequirement already satisfied: idna in /usr/local/lib/python3.10/dist-packages (from httpx<1,>=0.21.0->replicate) (3.7)\n",
            "Requirement already satisfied: sniffio in /usr/local/lib/python3.10/dist-packages (from httpx<1,>=0.21.0->replicate) (1.3.1)\n",
            "Collecting h11<0.15,>=0.13 (from httpcore==1.*->httpx<1,>=0.21.0->replicate)\n",
            "  Downloading h11-0.14.0-py3-none-any.whl (58 kB)\n",
            "\u001b[2K     \u001b[90m━━━━━━━━━━━━━━━━━━━━━━━━━━━━━━━━━━━━━━━━\u001b[0m \u001b[32m58.3/58.3 kB\u001b[0m \u001b[31m6.0 MB/s\u001b[0m eta \u001b[36m0:00:00\u001b[0m\n",
            "\u001b[?25hRequirement already satisfied: annotated-types>=0.4.0 in /usr/local/lib/python3.10/dist-packages (from pydantic>1.10.7->replicate) (0.6.0)\n",
            "Requirement already satisfied: pydantic-core==2.18.2 in /usr/local/lib/python3.10/dist-packages (from pydantic>1.10.7->replicate) (2.18.2)\n",
            "Requirement already satisfied: exceptiongroup in /usr/local/lib/python3.10/dist-packages (from anyio->httpx<1,>=0.21.0->replicate) (1.2.1)\n",
            "Installing collected packages: h11, httpcore, httpx, replicate\n",
            "Successfully installed h11-0.14.0 httpcore-1.0.5 httpx-0.27.0 replicate-0.26.0\n"
          ]
        }
      ]
    },
    {
      "cell_type": "markdown",
      "source": [
        "Import json file from wikihow"
      ],
      "metadata": {
        "id": "IlJYvlNa3e-d"
      }
    },
    {
      "cell_type": "code",
      "source": [
        "import json\n",
        "\n",
        "from google.colab import files\n",
        "uploaded = files.upload()\n",
        "\n",
        "file_name = next(iter(uploaded))\n",
        "\n",
        "with open(file_name, 'r') as file:\n",
        "    data = json.load(file)\n",
        "\n",
        "main_goal = data['title']\n",
        "\n",
        "wiki_steps = []\n",
        "\n",
        "for part in data['parts']:\n",
        "    for step in part['steps']:\n",
        "        wiki_steps.append(step['headline'])"
      ],
      "metadata": {
        "colab": {
          "base_uri": "https://localhost:8080/",
          "height": 73
        },
        "id": "0suRIPhE3d3K",
        "outputId": "3522fa79-c9dc-4769-f43a-a79899a22e48"
      },
      "execution_count": 2,
      "outputs": [
        {
          "output_type": "display_data",
          "data": {
            "text/plain": [
              "<IPython.core.display.HTML object>"
            ],
            "text/html": [
              "\n",
              "     <input type=\"file\" id=\"files-abfb2c06-c9b1-4ddb-9932-a8184f09534f\" name=\"files[]\" multiple disabled\n",
              "        style=\"border:none\" />\n",
              "     <output id=\"result-abfb2c06-c9b1-4ddb-9932-a8184f09534f\">\n",
              "      Upload widget is only available when the cell has been executed in the\n",
              "      current browser session. Please rerun this cell to enable.\n",
              "      </output>\n",
              "      <script>// Copyright 2017 Google LLC\n",
              "//\n",
              "// Licensed under the Apache License, Version 2.0 (the \"License\");\n",
              "// you may not use this file except in compliance with the License.\n",
              "// You may obtain a copy of the License at\n",
              "//\n",
              "//      http://www.apache.org/licenses/LICENSE-2.0\n",
              "//\n",
              "// Unless required by applicable law or agreed to in writing, software\n",
              "// distributed under the License is distributed on an \"AS IS\" BASIS,\n",
              "// WITHOUT WARRANTIES OR CONDITIONS OF ANY KIND, either express or implied.\n",
              "// See the License for the specific language governing permissions and\n",
              "// limitations under the License.\n",
              "\n",
              "/**\n",
              " * @fileoverview Helpers for google.colab Python module.\n",
              " */\n",
              "(function(scope) {\n",
              "function span(text, styleAttributes = {}) {\n",
              "  const element = document.createElement('span');\n",
              "  element.textContent = text;\n",
              "  for (const key of Object.keys(styleAttributes)) {\n",
              "    element.style[key] = styleAttributes[key];\n",
              "  }\n",
              "  return element;\n",
              "}\n",
              "\n",
              "// Max number of bytes which will be uploaded at a time.\n",
              "const MAX_PAYLOAD_SIZE = 100 * 1024;\n",
              "\n",
              "function _uploadFiles(inputId, outputId) {\n",
              "  const steps = uploadFilesStep(inputId, outputId);\n",
              "  const outputElement = document.getElementById(outputId);\n",
              "  // Cache steps on the outputElement to make it available for the next call\n",
              "  // to uploadFilesContinue from Python.\n",
              "  outputElement.steps = steps;\n",
              "\n",
              "  return _uploadFilesContinue(outputId);\n",
              "}\n",
              "\n",
              "// This is roughly an async generator (not supported in the browser yet),\n",
              "// where there are multiple asynchronous steps and the Python side is going\n",
              "// to poll for completion of each step.\n",
              "// This uses a Promise to block the python side on completion of each step,\n",
              "// then passes the result of the previous step as the input to the next step.\n",
              "function _uploadFilesContinue(outputId) {\n",
              "  const outputElement = document.getElementById(outputId);\n",
              "  const steps = outputElement.steps;\n",
              "\n",
              "  const next = steps.next(outputElement.lastPromiseValue);\n",
              "  return Promise.resolve(next.value.promise).then((value) => {\n",
              "    // Cache the last promise value to make it available to the next\n",
              "    // step of the generator.\n",
              "    outputElement.lastPromiseValue = value;\n",
              "    return next.value.response;\n",
              "  });\n",
              "}\n",
              "\n",
              "/**\n",
              " * Generator function which is called between each async step of the upload\n",
              " * process.\n",
              " * @param {string} inputId Element ID of the input file picker element.\n",
              " * @param {string} outputId Element ID of the output display.\n",
              " * @return {!Iterable<!Object>} Iterable of next steps.\n",
              " */\n",
              "function* uploadFilesStep(inputId, outputId) {\n",
              "  const inputElement = document.getElementById(inputId);\n",
              "  inputElement.disabled = false;\n",
              "\n",
              "  const outputElement = document.getElementById(outputId);\n",
              "  outputElement.innerHTML = '';\n",
              "\n",
              "  const pickedPromise = new Promise((resolve) => {\n",
              "    inputElement.addEventListener('change', (e) => {\n",
              "      resolve(e.target.files);\n",
              "    });\n",
              "  });\n",
              "\n",
              "  const cancel = document.createElement('button');\n",
              "  inputElement.parentElement.appendChild(cancel);\n",
              "  cancel.textContent = 'Cancel upload';\n",
              "  const cancelPromise = new Promise((resolve) => {\n",
              "    cancel.onclick = () => {\n",
              "      resolve(null);\n",
              "    };\n",
              "  });\n",
              "\n",
              "  // Wait for the user to pick the files.\n",
              "  const files = yield {\n",
              "    promise: Promise.race([pickedPromise, cancelPromise]),\n",
              "    response: {\n",
              "      action: 'starting',\n",
              "    }\n",
              "  };\n",
              "\n",
              "  cancel.remove();\n",
              "\n",
              "  // Disable the input element since further picks are not allowed.\n",
              "  inputElement.disabled = true;\n",
              "\n",
              "  if (!files) {\n",
              "    return {\n",
              "      response: {\n",
              "        action: 'complete',\n",
              "      }\n",
              "    };\n",
              "  }\n",
              "\n",
              "  for (const file of files) {\n",
              "    const li = document.createElement('li');\n",
              "    li.append(span(file.name, {fontWeight: 'bold'}));\n",
              "    li.append(span(\n",
              "        `(${file.type || 'n/a'}) - ${file.size} bytes, ` +\n",
              "        `last modified: ${\n",
              "            file.lastModifiedDate ? file.lastModifiedDate.toLocaleDateString() :\n",
              "                                    'n/a'} - `));\n",
              "    const percent = span('0% done');\n",
              "    li.appendChild(percent);\n",
              "\n",
              "    outputElement.appendChild(li);\n",
              "\n",
              "    const fileDataPromise = new Promise((resolve) => {\n",
              "      const reader = new FileReader();\n",
              "      reader.onload = (e) => {\n",
              "        resolve(e.target.result);\n",
              "      };\n",
              "      reader.readAsArrayBuffer(file);\n",
              "    });\n",
              "    // Wait for the data to be ready.\n",
              "    let fileData = yield {\n",
              "      promise: fileDataPromise,\n",
              "      response: {\n",
              "        action: 'continue',\n",
              "      }\n",
              "    };\n",
              "\n",
              "    // Use a chunked sending to avoid message size limits. See b/62115660.\n",
              "    let position = 0;\n",
              "    do {\n",
              "      const length = Math.min(fileData.byteLength - position, MAX_PAYLOAD_SIZE);\n",
              "      const chunk = new Uint8Array(fileData, position, length);\n",
              "      position += length;\n",
              "\n",
              "      const base64 = btoa(String.fromCharCode.apply(null, chunk));\n",
              "      yield {\n",
              "        response: {\n",
              "          action: 'append',\n",
              "          file: file.name,\n",
              "          data: base64,\n",
              "        },\n",
              "      };\n",
              "\n",
              "      let percentDone = fileData.byteLength === 0 ?\n",
              "          100 :\n",
              "          Math.round((position / fileData.byteLength) * 100);\n",
              "      percent.textContent = `${percentDone}% done`;\n",
              "\n",
              "    } while (position < fileData.byteLength);\n",
              "  }\n",
              "\n",
              "  // All done.\n",
              "  yield {\n",
              "    response: {\n",
              "      action: 'complete',\n",
              "    }\n",
              "  };\n",
              "}\n",
              "\n",
              "scope.google = scope.google || {};\n",
              "scope.google.colab = scope.google.colab || {};\n",
              "scope.google.colab._files = {\n",
              "  _uploadFiles,\n",
              "  _uploadFilesContinue,\n",
              "};\n",
              "})(self);\n",
              "</script> "
            ]
          },
          "metadata": {}
        },
        {
          "output_type": "stream",
          "name": "stdout",
          "text": [
            "Saving 1503_soothe-a-teething-baby.json to 1503_soothe-a-teething-baby.json\n"
          ]
        }
      ]
    },
    {
      "cell_type": "code",
      "source": [
        "wiki_steps"
      ],
      "metadata": {
        "colab": {
          "base_uri": "https://localhost:8080/"
        },
        "id": "AZA2sj_T4v4m",
        "outputId": "85b073f5-f1be-41f2-f0cd-99f68c009612"
      },
      "execution_count": 3,
      "outputs": [
        {
          "output_type": "execute_result",
          "data": {
            "text/plain": [
              "[\"Rub your baby's gums with a clean finger.\",\n",
              " \"Keep your baby's mouth cool.\",\n",
              " 'Invest in a teething device.',\n",
              " 'Give your baby hard foods.',\n",
              " 'Dry any drool you see.',\n",
              " 'Try over-the-counter drugs.',\n",
              " 'Use teething gels.',\n",
              " 'Be cautious when trying homeopathic cures.',\n",
              " 'Know when to see a doctor.',\n",
              " 'Take your baby to the dentist.',\n",
              " \"Care for your baby's new teeth.\",\n",
              " 'Prevent tooth decay by feeding your baby a healthy diet.']"
            ]
          },
          "metadata": {},
          "execution_count": 3
        }
      ]
    },
    {
      "cell_type": "code",
      "source": [
        "os.environ['REPLICATE_API_TOKEN'] = 'r8_e4mEdTT4wmpHuZB2RHxxw8Gr6xAlEWS33mK6e'\n",
        "api = replicate.Client(api_token=os.environ[\"REPLICATE_API_TOKEN\"])\n",
        "text = \"\"\n",
        "input = {\n",
        "    \"top_p\": 1,\n",
        "    \"prompt\": main_goal,\n",
        "    \"temperature\": 0.75,\n",
        "    \"system_prompt\": \"You are a helpful assistant that helps users break down their goals into smaller steps to help them achieve their goal. Be very concise and do not go over 10 words for each sentence For example, if the user wants to lose weight, you can list 'Exercise regularly'.\",\n",
        "    \"max_new_tokens\": 800,\n",
        "    \"repetition_penalty\": 1\n",
        "}\n",
        "\n",
        "for event in api.stream(\n",
        "    \"meta/llama-2-7b-chat\",\n",
        "    input=input\n",
        "): text += str(event)"
      ],
      "metadata": {
        "id": "be3HnwcOAKOm"
      },
      "execution_count": 25,
      "outputs": []
    },
    {
      "cell_type": "code",
      "source": [
        "print(text)"
      ],
      "metadata": {
        "colab": {
          "base_uri": "https://localhost:8080/"
        },
        "id": "fWCS6xiOQEMu",
        "outputId": "3f21e1ca-6729-4006-ecb9-f3eb970b4efc"
      },
      "execution_count": 26,
      "outputs": [
        {
          "output_type": "stream",
          "name": "stdout",
          "text": [
            " Sure, I'd be happy to help! Here are some steps you can take to help soothe a teething baby:\n",
            "\n",
            "1. Provide relief with a cold compress.\n",
            "2. Offer teething toys to chew on.\n",
            "3. Try swaddling or holding the baby.\n",
            "4. Use over-the-counter pain relievers.\n",
            "5. Massage the baby's gums.\n",
            "6. Try using a teething gel or ointment.\n",
            "7. Keep the baby's room cool and dark.\n",
            "8. Offer the baby a cold pacifier.\n",
            "9. Try using aromatherapy with lavender oil.\n",
            "10. Keep the baby hydrated with water.\n"
          ]
        }
      ]
    },
    {
      "cell_type": "markdown",
      "source": [
        "Put Llama 2 output into a list"
      ],
      "metadata": {
        "id": "aE3JM6El6RRM"
      }
    },
    {
      "cell_type": "code",
      "source": [
        "import re\n",
        "\n",
        "llama_steps = []\n",
        "\n",
        "lines = text.splitlines()\n",
        "\n",
        "pattern = re.compile(r'^\\d+\\.\\s+(.*)')\n",
        "\n",
        "for line in lines:\n",
        "    match = pattern.match(line)\n",
        "    if match:\n",
        "        step_text = match.group(1)\n",
        "        llama_steps.append(step_text)"
      ],
      "metadata": {
        "id": "7gxE6MOS6Q4r"
      },
      "execution_count": 27,
      "outputs": []
    },
    {
      "cell_type": "code",
      "source": [
        "llama_steps"
      ],
      "metadata": {
        "colab": {
          "base_uri": "https://localhost:8080/"
        },
        "id": "HVphmeV-6ca5",
        "outputId": "e2fa6842-e174-4065-a7e6-57e158f352c6"
      },
      "execution_count": 28,
      "outputs": [
        {
          "output_type": "execute_result",
          "data": {
            "text/plain": [
              "['Provide relief with a cold compress.',\n",
              " 'Offer teething toys to chew on.',\n",
              " 'Try swaddling or holding the baby.',\n",
              " 'Use over-the-counter pain relievers.',\n",
              " \"Massage the baby's gums.\",\n",
              " 'Try using a teething gel or ointment.',\n",
              " \"Keep the baby's room cool and dark.\",\n",
              " 'Offer the baby a cold pacifier.',\n",
              " 'Try using aromatherapy with lavender oil.',\n",
              " 'Keep the baby hydrated with water.']"
            ]
          },
          "metadata": {},
          "execution_count": 28
        }
      ]
    },
    {
      "cell_type": "markdown",
      "source": [
        "Dynamic Time Warping? + BLEU Scores"
      ],
      "metadata": {
        "id": "_uGODLSp7UPq"
      }
    },
    {
      "cell_type": "code",
      "source": [
        "!pip install nltk fastdtw dtaidistance\n",
        "\n",
        "import nltk\n",
        "nltk.download('punkt')\n",
        "from nltk.translate.bleu_score import sentence_bleu\n",
        "import numpy as np\n",
        "from dtaidistance import dtw\n",
        "from fastdtw import fastdtw\n",
        "from scipy.spatial.distance import euclidean\n",
        "import pandas as pd\n",
        "from nltk.translate.bleu_score import SmoothingFunction\n",
        "import itertools"
      ],
      "metadata": {
        "colab": {
          "base_uri": "https://localhost:8080/"
        },
        "id": "5JhH4g5c8C9p",
        "outputId": "09e66253-2c27-4677-b978-dab7cd71ca35"
      },
      "execution_count": 29,
      "outputs": [
        {
          "output_type": "stream",
          "name": "stdout",
          "text": [
            "Requirement already satisfied: nltk in /usr/local/lib/python3.10/dist-packages (3.8.1)\n",
            "Requirement already satisfied: fastdtw in /usr/local/lib/python3.10/dist-packages (0.3.4)\n",
            "Requirement already satisfied: dtaidistance in /usr/local/lib/python3.10/dist-packages (2.3.11)\n",
            "Requirement already satisfied: click in /usr/local/lib/python3.10/dist-packages (from nltk) (8.1.7)\n",
            "Requirement already satisfied: joblib in /usr/local/lib/python3.10/dist-packages (from nltk) (1.4.2)\n",
            "Requirement already satisfied: regex>=2021.8.3 in /usr/local/lib/python3.10/dist-packages (from nltk) (2023.12.25)\n",
            "Requirement already satisfied: tqdm in /usr/local/lib/python3.10/dist-packages (from nltk) (4.66.4)\n",
            "Requirement already satisfied: numpy in /usr/local/lib/python3.10/dist-packages (from fastdtw) (1.25.2)\n"
          ]
        },
        {
          "output_type": "stream",
          "name": "stderr",
          "text": [
            "[nltk_data] Downloading package punkt to /root/nltk_data...\n",
            "[nltk_data]   Package punkt is already up-to-date!\n"
          ]
        }
      ]
    },
    {
      "cell_type": "code",
      "source": [
        "# Tokenize sentences\n",
        "wiki_tokenized = [nltk.word_tokenize(sentence) for sentence in wiki_steps]\n",
        "llama_tokenized = [nltk.word_tokenize(sentence) for sentence in llama_steps]\n",
        "\n",
        "smoothing_function = SmoothingFunction().method1\n",
        "\n",
        "# BLEU score matrix\n",
        "bleu_matrix = np.zeros((len(wiki_steps), len(llama_steps)))\n",
        "\n",
        "for i, ref in enumerate(wiki_tokenized):\n",
        "    for j, hyp in enumerate(llama_tokenized):\n",
        "        bleu_matrix[i, j] = sentence_bleu([ref], hyp, smoothing_function=smoothing_function)\n",
        "\n",
        "# Display the BLEU similarity matrix as a DataFrame for better readability\n",
        "bleu_df = pd.DataFrame(bleu_matrix, index=[f\"wiki_{i}\" for i in range(len(wiki_steps))],\n",
        "                       columns=[f\"llama_{j}\" for j in range(len(llama_steps))])\n",
        "\n",
        "print(\"BLEU Similarity Matrix:\")\n",
        "print(bleu_df)"
      ],
      "metadata": {
        "colab": {
          "base_uri": "https://localhost:8080/"
        },
        "id": "SyjWra7e8FZ_",
        "outputId": "7b1ba17b-5712-4c2a-f35a-4fdb84461603"
      },
      "execution_count": 30,
      "outputs": [
        {
          "output_type": "stream",
          "name": "stdout",
          "text": [
            "BLEU Similarity Matrix:\n",
            "          llama_0   llama_1   llama_2   llama_3   llama_4   llama_5   llama_6  \\\n",
            "wiki_0   0.050360  0.021518  0.025589  0.019766  0.111472  0.025725  0.050220   \n",
            "wiki_1   0.033032  0.033032  0.039281  0.036015  0.080876  0.027776  0.063767   \n",
            "wiki_2   0.039281  0.039281  0.033032  0.043989  0.040825  0.065006  0.023980   \n",
            "wiki_3   0.033032  0.033032  0.039281  0.043989  0.048549  0.027776  0.028518   \n",
            "wiki_4   0.033032  0.033032  0.033032  0.043989  0.040825  0.027776  0.023980   \n",
            "wiki_5   0.033032  0.033032  0.039281  0.063894  0.040825  0.033032  0.023980   \n",
            "wiki_6   0.033032  0.039281  0.033032  0.063894  0.040825  0.033032  0.023980   \n",
            "wiki_7   0.033032  0.033032  0.033032  0.036015  0.034557  0.027776  0.023980   \n",
            "wiki_8   0.039281  0.039281  0.033032  0.036015  0.034557  0.033032  0.023980   \n",
            "wiki_9   0.033032  0.039281  0.043472  0.036015  0.045480  0.027776  0.031560   \n",
            "wiki_10  0.028634  0.028634  0.034052  0.029487  0.068460  0.027776  0.056122   \n",
            "wiki_11  0.022183  0.018654  0.022183  0.016183  0.021099  0.022702  0.022835   \n",
            "\n",
            "          llama_7   llama_8   llama_9  \n",
            "wiki_0   0.028319  0.025589  0.028319  \n",
            "wiki_1   0.039281  0.033032  0.043472  \n",
            "wiki_2   0.039281  0.033032  0.033032  \n",
            "wiki_3   0.039281  0.033032  0.039281  \n",
            "wiki_4   0.033032  0.033032  0.033032  \n",
            "wiki_5   0.033032  0.039281  0.033032  \n",
            "wiki_6   0.033032  0.033032  0.033032  \n",
            "wiki_7   0.033032  0.033032  0.033032  \n",
            "wiki_8   0.039281  0.033032  0.033032  \n",
            "wiki_9   0.043472  0.033032  0.043472  \n",
            "wiki_10  0.034052  0.028634  0.034052  \n",
            "wiki_11  0.043656  0.018654  0.022183  \n"
          ]
        }
      ]
    },
    {
      "cell_type": "code",
      "source": [
        "# Calculate the maximum BLEU score for each llama entry\n",
        "max_bleu_scores = np.max(bleu_matrix, axis=0)\n",
        "\n",
        "# Calculate the average of the maximum BLEU scores\n",
        "average_max_bleu = np.mean(max_bleu_scores)\n",
        "\n",
        "\n",
        "max_indices = np.argmax(bleu_matrix, axis=0)\n",
        "\n",
        "# Print the corresponding sentence matchups\n",
        "print(\"Maximum BLEU score sentence matchups:\")\n",
        "for j, max_index in enumerate(max_indices):\n",
        "    print(f\"LLama: {llama_steps[j]} -> Wiki: {wiki_steps[max_index]}\")\n",
        "\n",
        "print(\"\\nMaximum BLEU scores for each 'llama' entry:\")\n",
        "print(max_bleu_scores)\n",
        "print(\"\\nAverage of the maximum BLEU scores:\", average_max_bleu)"
      ],
      "metadata": {
        "colab": {
          "base_uri": "https://localhost:8080/"
        },
        "id": "dmJ7mYGY_juM",
        "outputId": "edaff943-58c3-4179-dcef-42ff2cf944f7"
      },
      "execution_count": 31,
      "outputs": [
        {
          "output_type": "stream",
          "name": "stdout",
          "text": [
            "Maximum BLEU score sentence matchups:\n",
            "LLama: Provide relief with a cold compress. -> Wiki: Rub your baby's gums with a clean finger.\n",
            "LLama: Offer teething toys to chew on. -> Wiki: Invest in a teething device.\n",
            "LLama: Try swaddling or holding the baby. -> Wiki: Take your baby to the dentist.\n",
            "LLama: Use over-the-counter pain relievers. -> Wiki: Try over-the-counter drugs.\n",
            "LLama: Massage the baby's gums. -> Wiki: Rub your baby's gums with a clean finger.\n",
            "LLama: Try using a teething gel or ointment. -> Wiki: Invest in a teething device.\n",
            "LLama: Keep the baby's room cool and dark. -> Wiki: Keep your baby's mouth cool.\n",
            "LLama: Offer the baby a cold pacifier. -> Wiki: Prevent tooth decay by feeding your baby a healthy diet.\n",
            "LLama: Try using aromatherapy with lavender oil. -> Wiki: Try over-the-counter drugs.\n",
            "LLama: Keep the baby hydrated with water. -> Wiki: Keep your baby's mouth cool.\n",
            "\n",
            "Maximum BLEU scores for each 'llama' entry:\n",
            "[0.05035983 0.03928147 0.04347209 0.06389431 0.11147237 0.06500593\n",
            " 0.06376716 0.04365583 0.03928147 0.04347209]\n",
            "\n",
            "Average of the maximum BLEU scores: 0.056366253018846055\n"
          ]
        }
      ]
    },
    {
      "cell_type": "markdown",
      "source": [
        "Plot the maximum Bleu Scores"
      ],
      "metadata": {
        "id": "noJGDaB-NA5_"
      }
    },
    {
      "cell_type": "code",
      "source": [
        "import matplotlib.pyplot as plt\n",
        "\n",
        "# Plot the maximum BLEU scores\n",
        "plt.figure(figsize=(8, 6))\n",
        "plt.bar(range(len(llama_steps)), max_bleu_scores, color='skyblue')\n",
        "plt.xlabel('LLama Entry')\n",
        "plt.ylabel('BLEU Score')\n",
        "plt.title('Maximum BLEU Score - Role + Examples')\n",
        "plt.xticks(range(len(llama_steps)), ['Step ' + str(i+1) for i in range(len(llama_steps))], rotation=45)\n",
        "plt.ylim(0, 1)  # Set y-axis limit from 0 to 1\n",
        "plt.grid(axis='y', linestyle='--', alpha=0.7)\n",
        "plt.tight_layout()\n",
        "plt.show()"
      ],
      "metadata": {
        "colab": {
          "base_uri": "https://localhost:8080/",
          "height": 607
        },
        "id": "KuAIcWNjMQUH",
        "outputId": "237888d0-7b3d-406b-a26e-33b22e7f0da0"
      },
      "execution_count": 32,
      "outputs": [
        {
          "output_type": "display_data",
          "data": {
            "text/plain": [
              "<Figure size 800x600 with 1 Axes>"
            ],
            "image/png": "[encoded data removed]"
          },
          "metadata": {}
        }
      ]
    }
  ]
}
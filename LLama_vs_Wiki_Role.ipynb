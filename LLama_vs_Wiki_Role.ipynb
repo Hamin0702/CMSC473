{
  "nbformat": 4,
  "nbformat_minor": 0,
  "metadata": {
    "colab": {
      "provenance": []
    },
    "kernelspec": {
      "name": "python3",
      "display_name": "Python 3"
    },
    "language_info": {
      "name": "python"
    }
  },
  "cells": [
    {
      "cell_type": "code",
      "source": [
        "!pip install replicate\n",
        "\n",
        "import replicate\n",
        "import os"
      ],
      "metadata": {
        "colab": {
          "base_uri": "https://localhost:8080/"
        },
        "id": "oWx6XfjZJb5g",
        "outputId": "6d2a9c91-f06a-40e6-96e0-89d368fda709"
      },
      "execution_count": 1,
      "outputs": [
        {
          "output_type": "stream",
          "name": "stdout",
          "text": [
            "Collecting replicate\n",
            "  Downloading replicate-0.26.0-py3-none-any.whl (40 kB)\n",
            "\u001b[2K     \u001b[90m━━━━━━━━━━━━━━━━━━━━━━━━━━━━━━━━━━━━━━━━\u001b[0m \u001b[32m40.0/40.0 kB\u001b[0m \u001b[31m1.1 MB/s\u001b[0m eta \u001b[36m0:00:00\u001b[0m\n",
            "\u001b[?25hCollecting httpx<1,>=0.21.0 (from replicate)\n",
            "  Downloading httpx-0.27.0-py3-none-any.whl (75 kB)\n",
            "\u001b[2K     \u001b[90m━━━━━━━━━━━━━━━━━━━━━━━━━━━━━━━━━━━━━━━━\u001b[0m \u001b[32m75.6/75.6 kB\u001b[0m \u001b[31m3.4 MB/s\u001b[0m eta \u001b[36m0:00:00\u001b[0m\n",
            "\u001b[?25hRequirement already satisfied: packaging in /usr/local/lib/python3.10/dist-packages (from replicate) (24.0)\n",
            "Requirement already satisfied: pydantic>1.10.7 in /usr/local/lib/python3.10/dist-packages (from replicate) (2.7.1)\n",
            "Requirement already satisfied: typing-extensions>=4.5.0 in /usr/local/lib/python3.10/dist-packages (from replicate) (4.11.0)\n",
            "Requirement already satisfied: anyio in /usr/local/lib/python3.10/dist-packages (from httpx<1,>=0.21.0->replicate) (3.7.1)\n",
            "Requirement already satisfied: certifi in /usr/local/lib/python3.10/dist-packages (from httpx<1,>=0.21.0->replicate) (2024.2.2)\n",
            "Collecting httpcore==1.* (from httpx<1,>=0.21.0->replicate)\n",
            "  Downloading httpcore-1.0.5-py3-none-any.whl (77 kB)\n",
            "\u001b[2K     \u001b[90m━━━━━━━━━━━━━━━━━━━━━━━━━━━━━━━━━━━━━━━━\u001b[0m \u001b[32m77.9/77.9 kB\u001b[0m \u001b[31m7.7 MB/s\u001b[0m eta \u001b[36m0:00:00\u001b[0m\n",
            "\u001b[?25hRequirement already satisfied: idna in /usr/local/lib/python3.10/dist-packages (from httpx<1,>=0.21.0->replicate) (3.7)\n",
            "Requirement already satisfied: sniffio in /usr/local/lib/python3.10/dist-packages (from httpx<1,>=0.21.0->replicate) (1.3.1)\n",
            "Collecting h11<0.15,>=0.13 (from httpcore==1.*->httpx<1,>=0.21.0->replicate)\n",
            "  Downloading h11-0.14.0-py3-none-any.whl (58 kB)\n",
            "\u001b[2K     \u001b[90m━━━━━━━━━━━━━━━━━━━━━━━━━━━━━━━━━━━━━━━━\u001b[0m \u001b[32m58.3/58.3 kB\u001b[0m \u001b[31m7.1 MB/s\u001b[0m eta \u001b[36m0:00:00\u001b[0m\n",
            "\u001b[?25hRequirement already satisfied: annotated-types>=0.4.0 in /usr/local/lib/python3.10/dist-packages (from pydantic>1.10.7->replicate) (0.6.0)\n",
            "Requirement already satisfied: pydantic-core==2.18.2 in /usr/local/lib/python3.10/dist-packages (from pydantic>1.10.7->replicate) (2.18.2)\n",
            "Requirement already satisfied: exceptiongroup in /usr/local/lib/python3.10/dist-packages (from anyio->httpx<1,>=0.21.0->replicate) (1.2.1)\n",
            "Installing collected packages: h11, httpcore, httpx, replicate\n",
            "Successfully installed h11-0.14.0 httpcore-1.0.5 httpx-0.27.0 replicate-0.26.0\n"
          ]
        }
      ]
    },
    {
      "cell_type": "markdown",
      "source": [
        "Import json file from wikihow"
      ],
      "metadata": {
        "id": "IlJYvlNa3e-d"
      }
    },
    {
      "cell_type": "code",
      "source": [
        "import json\n",
        "\n",
        "from google.colab import files\n",
        "uploaded = files.upload()\n",
        "\n",
        "file_name = next(iter(uploaded))\n",
        "\n",
        "with open(file_name, 'r') as file:\n",
        "    data = json.load(file)\n",
        "\n",
        "main_goal = data['title']\n",
        "\n",
        "wiki_steps = []\n",
        "\n",
        "for part in data['parts']:\n",
        "    for step in part['steps']:\n",
        "        wiki_steps.append(step['headline'])"
      ],
      "metadata": {
        "colab": {
          "base_uri": "https://localhost:8080/",
          "height": 73
        },
        "id": "0suRIPhE3d3K",
        "outputId": "d4c0fd0c-5cbc-4250-b93d-d288c33b7f69"
      },
      "execution_count": 2,
      "outputs": [
        {
          "output_type": "display_data",
          "data": {
            "text/plain": [
              "<IPython.core.display.HTML object>"
            ],
            "text/html": [
              "\n",
              "     <input type=\"file\" id=\"files-3e105eea-56ed-4f02-a731-3360e3792351\" name=\"files[]\" multiple disabled\n",
              "        style=\"border:none\" />\n",
              "     <output id=\"result-3e105eea-56ed-4f02-a731-3360e3792351\">\n",
              "      Upload widget is only available when the cell has been executed in the\n",
              "      current browser session. Please rerun this cell to enable.\n",
              "      </output>\n",
              "      <script>// Copyright 2017 Google LLC\n",
              "//\n",
              "// Licensed under the Apache License, Version 2.0 (the \"License\");\n",
              "// you may not use this file except in compliance with the License.\n",
              "// You may obtain a copy of the License at\n",
              "//\n",
              "//      http://www.apache.org/licenses/LICENSE-2.0\n",
              "//\n",
              "// Unless required by applicable law or agreed to in writing, software\n",
              "// distributed under the License is distributed on an \"AS IS\" BASIS,\n",
              "// WITHOUT WARRANTIES OR CONDITIONS OF ANY KIND, either express or implied.\n",
              "// See the License for the specific language governing permissions and\n",
              "// limitations under the License.\n",
              "\n",
              "/**\n",
              " * @fileoverview Helpers for google.colab Python module.\n",
              " */\n",
              "(function(scope) {\n",
              "function span(text, styleAttributes = {}) {\n",
              "  const element = document.createElement('span');\n",
              "  element.textContent = text;\n",
              "  for (const key of Object.keys(styleAttributes)) {\n",
              "    element.style[key] = styleAttributes[key];\n",
              "  }\n",
              "  return element;\n",
              "}\n",
              "\n",
              "// Max number of bytes which will be uploaded at a time.\n",
              "const MAX_PAYLOAD_SIZE = 100 * 1024;\n",
              "\n",
              "function _uploadFiles(inputId, outputId) {\n",
              "  const steps = uploadFilesStep(inputId, outputId);\n",
              "  const outputElement = document.getElementById(outputId);\n",
              "  // Cache steps on the outputElement to make it available for the next call\n",
              "  // to uploadFilesContinue from Python.\n",
              "  outputElement.steps = steps;\n",
              "\n",
              "  return _uploadFilesContinue(outputId);\n",
              "}\n",
              "\n",
              "// This is roughly an async generator (not supported in the browser yet),\n",
              "// where there are multiple asynchronous steps and the Python side is going\n",
              "// to poll for completion of each step.\n",
              "// This uses a Promise to block the python side on completion of each step,\n",
              "// then passes the result of the previous step as the input to the next step.\n",
              "function _uploadFilesContinue(outputId) {\n",
              "  const outputElement = document.getElementById(outputId);\n",
              "  const steps = outputElement.steps;\n",
              "\n",
              "  const next = steps.next(outputElement.lastPromiseValue);\n",
              "  return Promise.resolve(next.value.promise).then((value) => {\n",
              "    // Cache the last promise value to make it available to the next\n",
              "    // step of the generator.\n",
              "    outputElement.lastPromiseValue = value;\n",
              "    return next.value.response;\n",
              "  });\n",
              "}\n",
              "\n",
              "/**\n",
              " * Generator function which is called between each async step of the upload\n",
              " * process.\n",
              " * @param {string} inputId Element ID of the input file picker element.\n",
              " * @param {string} outputId Element ID of the output display.\n",
              " * @return {!Iterable<!Object>} Iterable of next steps.\n",
              " */\n",
              "function* uploadFilesStep(inputId, outputId) {\n",
              "  const inputElement = document.getElementById(inputId);\n",
              "  inputElement.disabled = false;\n",
              "\n",
              "  const outputElement = document.getElementById(outputId);\n",
              "  outputElement.innerHTML = '';\n",
              "\n",
              "  const pickedPromise = new Promise((resolve) => {\n",
              "    inputElement.addEventListener('change', (e) => {\n",
              "      resolve(e.target.files);\n",
              "    });\n",
              "  });\n",
              "\n",
              "  const cancel = document.createElement('button');\n",
              "  inputElement.parentElement.appendChild(cancel);\n",
              "  cancel.textContent = 'Cancel upload';\n",
              "  const cancelPromise = new Promise((resolve) => {\n",
              "    cancel.onclick = () => {\n",
              "      resolve(null);\n",
              "    };\n",
              "  });\n",
              "\n",
              "  // Wait for the user to pick the files.\n",
              "  const files = yield {\n",
              "    promise: Promise.race([pickedPromise, cancelPromise]),\n",
              "    response: {\n",
              "      action: 'starting',\n",
              "    }\n",
              "  };\n",
              "\n",
              "  cancel.remove();\n",
              "\n",
              "  // Disable the input element since further picks are not allowed.\n",
              "  inputElement.disabled = true;\n",
              "\n",
              "  if (!files) {\n",
              "    return {\n",
              "      response: {\n",
              "        action: 'complete',\n",
              "      }\n",
              "    };\n",
              "  }\n",
              "\n",
              "  for (const file of files) {\n",
              "    const li = document.createElement('li');\n",
              "    li.append(span(file.name, {fontWeight: 'bold'}));\n",
              "    li.append(span(\n",
              "        `(${file.type || 'n/a'}) - ${file.size} bytes, ` +\n",
              "        `last modified: ${\n",
              "            file.lastModifiedDate ? file.lastModifiedDate.toLocaleDateString() :\n",
              "                                    'n/a'} - `));\n",
              "    const percent = span('0% done');\n",
              "    li.appendChild(percent);\n",
              "\n",
              "    outputElement.appendChild(li);\n",
              "\n",
              "    const fileDataPromise = new Promise((resolve) => {\n",
              "      const reader = new FileReader();\n",
              "      reader.onload = (e) => {\n",
              "        resolve(e.target.result);\n",
              "      };\n",
              "      reader.readAsArrayBuffer(file);\n",
              "    });\n",
              "    // Wait for the data to be ready.\n",
              "    let fileData = yield {\n",
              "      promise: fileDataPromise,\n",
              "      response: {\n",
              "        action: 'continue',\n",
              "      }\n",
              "    };\n",
              "\n",
              "    // Use a chunked sending to avoid message size limits. See b/62115660.\n",
              "    let position = 0;\n",
              "    do {\n",
              "      const length = Math.min(fileData.byteLength - position, MAX_PAYLOAD_SIZE);\n",
              "      const chunk = new Uint8Array(fileData, position, length);\n",
              "      position += length;\n",
              "\n",
              "      const base64 = btoa(String.fromCharCode.apply(null, chunk));\n",
              "      yield {\n",
              "        response: {\n",
              "          action: 'append',\n",
              "          file: file.name,\n",
              "          data: base64,\n",
              "        },\n",
              "      };\n",
              "\n",
              "      let percentDone = fileData.byteLength === 0 ?\n",
              "          100 :\n",
              "          Math.round((position / fileData.byteLength) * 100);\n",
              "      percent.textContent = `${percentDone}% done`;\n",
              "\n",
              "    } while (position < fileData.byteLength);\n",
              "  }\n",
              "\n",
              "  // All done.\n",
              "  yield {\n",
              "    response: {\n",
              "      action: 'complete',\n",
              "    }\n",
              "  };\n",
              "}\n",
              "\n",
              "scope.google = scope.google || {};\n",
              "scope.google.colab = scope.google.colab || {};\n",
              "scope.google.colab._files = {\n",
              "  _uploadFiles,\n",
              "  _uploadFilesContinue,\n",
              "};\n",
              "})(self);\n",
              "</script> "
            ]
          },
          "metadata": {}
        },
        {
          "output_type": "stream",
          "name": "stdout",
          "text": [
            "Saving 1503_soothe-a-teething-baby.json to 1503_soothe-a-teething-baby.json\n"
          ]
        }
      ]
    },
    {
      "cell_type": "code",
      "source": [
        "wiki_steps"
      ],
      "metadata": {
        "colab": {
          "base_uri": "https://localhost:8080/"
        },
        "id": "AZA2sj_T4v4m",
        "outputId": "8c1852f5-0590-44ee-d2bc-c068d4c795d6"
      },
      "execution_count": 3,
      "outputs": [
        {
          "output_type": "execute_result",
          "data": {
            "text/plain": [
              "[\"Rub your baby's gums with a clean finger.\",\n",
              " \"Keep your baby's mouth cool.\",\n",
              " 'Invest in a teething device.',\n",
              " 'Give your baby hard foods.',\n",
              " 'Dry any drool you see.',\n",
              " 'Try over-the-counter drugs.',\n",
              " 'Use teething gels.',\n",
              " 'Be cautious when trying homeopathic cures.',\n",
              " 'Know when to see a doctor.',\n",
              " 'Take your baby to the dentist.',\n",
              " \"Care for your baby's new teeth.\",\n",
              " 'Prevent tooth decay by feeding your baby a healthy diet.']"
            ]
          },
          "metadata": {},
          "execution_count": 3
        }
      ]
    },
    {
      "cell_type": "code",
      "source": [
        "os.environ['REPLICATE_API_TOKEN'] = 'r8_e4mEdTT4wmpHuZB2RHxxw8Gr6xAlEWS33mK6e'\n",
        "api = replicate.Client(api_token=os.environ[\"REPLICATE_API_TOKEN\"])\n",
        "text = \"\"\n",
        "input = {\n",
        "    \"top_p\": 1,\n",
        "    \"prompt\": main_goal,\n",
        "    \"temperature\": 0.75,\n",
        "    \"system_prompt\": \"You are a helpful assistant that helps users break down their goals into smaller steps to help them achieve their goal. Make a numbered list of the steps to achieve the goal.\",\n",
        "    \"max_new_tokens\": 800,\n",
        "    \"repetition_penalty\": 1\n",
        "}\n",
        "\n",
        "for event in api.stream(\n",
        "    \"meta/llama-2-7b-chat\",\n",
        "    input=input\n",
        "): text += str(event)"
      ],
      "metadata": {
        "id": "be3HnwcOAKOm"
      },
      "execution_count": 4,
      "outputs": []
    },
    {
      "cell_type": "code",
      "source": [
        "print(text)"
      ],
      "metadata": {
        "colab": {
          "base_uri": "https://localhost:8080/"
        },
        "id": "fWCS6xiOQEMu",
        "outputId": "ac208e8b-ca15-4772-e4bc-907a0be55e9a"
      },
      "execution_count": 5,
      "outputs": [
        {
          "output_type": "stream",
          "name": "stdout",
          "text": [
            " Sure, I'd be happy to help you break down your goal of soothing a teething baby into smaller steps! Here are some steps you can follow:\n",
            "\n",
            "1. Check for signs of teething: Before you can start soothing your baby, it's important to check for signs of teething. Look for symptoms such as drooling, gnawing or chewing on their hands, or swelling of the gums.\n",
            "2. Provide a cold compress: One of the most effective ways to soothe a teething baby is to provide a cold compress. You can use a cold washcloth or a frozen teether toy. Place the compress on your baby's gums or cheek to help reduce swelling and ease discomfort.\n",
            "3. Use over-the-counter pain relievers: If your baby is older than 6 months, you can try using over-the-counter pain relievers such as acetaminophen or ibuprofen. Always follow the recommended dosage instructions and consult with your pediatrician before giving your baby any medication.\n",
            "4. Massage your baby's gums: Gently massaging your baby's gums with your finger can help to stimulate blood flow and ease discomfort. Use your index and middle fingers to massage the gums in a circular motion.\n",
            "5. Try teething toys: Offer your baby a variety of teething toys, such as pacifiers, teether toys, or cold teething rings. These can help to distract your baby from the discomfort of teething and provide relief.\n",
            "6. Use aromatherapy: Some parents find that certain scents, such as lavender or peppermint, can help to soothe their teething baby. Try using a lavender-scented teether toy or adding a few drops of peppermint oil to a cold compress.\n",
            "7. Try white noise: Some babies find the sound of white noise, such as a fan or a vacuum cleaner, to be soothing and can help to distract them from the discomfort of teething.\n",
            "8. Offer plenty of fluids: Teething can be a stressful and tiring experience for babies, so it's important to make sure they are well-hydrated. Offer your baby plenty of breast milk or formula, or encourage them to drink water from a sippy cup.\n",
            "9. Try a teething gel: There are many teething gels available that can be applied to your baby's gums to help ease discomfort. Always follow the recommended dosage instructions and consult with your pediatrician before using any new products.\n",
            "10. Practice skin-to-skin contact: Holding your baby close and skin-to-skin can help to soothe and calm them, and can also help to distract them from the discomfort of teething.\n",
            "\n",
            "Remember, every baby is different, so it may take some trial and error to find the best approach for your teething baby. Be patient and try different methods to see what works best for your little one.\n"
          ]
        }
      ]
    },
    {
      "cell_type": "markdown",
      "source": [
        "Put Llama 2 output into a list"
      ],
      "metadata": {
        "id": "aE3JM6El6RRM"
      }
    },
    {
      "cell_type": "code",
      "source": [
        "import re\n",
        "\n",
        "llama_steps = []\n",
        "\n",
        "lines = text.splitlines()\n",
        "\n",
        "pattern = re.compile(r'^\\d+\\.\\s+(.*)')\n",
        "\n",
        "for line in lines:\n",
        "    match = pattern.match(line)\n",
        "    if match:\n",
        "        step_text = match.group(1)\n",
        "        llama_steps.append(step_text)"
      ],
      "metadata": {
        "id": "7gxE6MOS6Q4r"
      },
      "execution_count": 6,
      "outputs": []
    },
    {
      "cell_type": "code",
      "source": [
        "llama_steps"
      ],
      "metadata": {
        "colab": {
          "base_uri": "https://localhost:8080/"
        },
        "id": "HVphmeV-6ca5",
        "outputId": "3e22499e-5d96-4cba-dd29-a6e74bab9af6"
      },
      "execution_count": 7,
      "outputs": [
        {
          "output_type": "execute_result",
          "data": {
            "text/plain": [
              "[\"Check for signs of teething: Before you can start soothing your baby, it's important to check for signs of teething. Look for symptoms such as drooling, gnawing or chewing on their hands, or swelling of the gums.\",\n",
              " \"Provide a cold compress: One of the most effective ways to soothe a teething baby is to provide a cold compress. You can use a cold washcloth or a frozen teether toy. Place the compress on your baby's gums or cheek to help reduce swelling and ease discomfort.\",\n",
              " 'Use over-the-counter pain relievers: If your baby is older than 6 months, you can try using over-the-counter pain relievers such as acetaminophen or ibuprofen. Always follow the recommended dosage instructions and consult with your pediatrician before giving your baby any medication.',\n",
              " \"Massage your baby's gums: Gently massaging your baby's gums with your finger can help to stimulate blood flow and ease discomfort. Use your index and middle fingers to massage the gums in a circular motion.\",\n",
              " 'Try teething toys: Offer your baby a variety of teething toys, such as pacifiers, teether toys, or cold teething rings. These can help to distract your baby from the discomfort of teething and provide relief.',\n",
              " 'Use aromatherapy: Some parents find that certain scents, such as lavender or peppermint, can help to soothe their teething baby. Try using a lavender-scented teether toy or adding a few drops of peppermint oil to a cold compress.',\n",
              " 'Try white noise: Some babies find the sound of white noise, such as a fan or a vacuum cleaner, to be soothing and can help to distract them from the discomfort of teething.',\n",
              " \"Offer plenty of fluids: Teething can be a stressful and tiring experience for babies, so it's important to make sure they are well-hydrated. Offer your baby plenty of breast milk or formula, or encourage them to drink water from a sippy cup.\",\n",
              " \"Try a teething gel: There are many teething gels available that can be applied to your baby's gums to help ease discomfort. Always follow the recommended dosage instructions and consult with your pediatrician before using any new products.\",\n",
              " 'Practice skin-to-skin contact: Holding your baby close and skin-to-skin can help to soothe and calm them, and can also help to distract them from the discomfort of teething.']"
            ]
          },
          "metadata": {},
          "execution_count": 7
        }
      ]
    },
    {
      "cell_type": "markdown",
      "source": [
        "Dynamic Time Warping? + BLEU Scores"
      ],
      "metadata": {
        "id": "_uGODLSp7UPq"
      }
    },
    {
      "cell_type": "code",
      "source": [
        "!pip install nltk fastdtw dtaidistance\n",
        "\n",
        "import nltk\n",
        "nltk.download('punkt')\n",
        "from nltk.translate.bleu_score import sentence_bleu\n",
        "import numpy as np\n",
        "from dtaidistance import dtw\n",
        "from fastdtw import fastdtw\n",
        "from scipy.spatial.distance import euclidean\n",
        "import pandas as pd\n",
        "from nltk.translate.bleu_score import SmoothingFunction\n",
        "import itertools"
      ],
      "metadata": {
        "colab": {
          "base_uri": "https://localhost:8080/"
        },
        "id": "5JhH4g5c8C9p",
        "outputId": "5b931d87-670a-4780-9898-2434f6c0a7f4"
      },
      "execution_count": 8,
      "outputs": [
        {
          "output_type": "stream",
          "name": "stdout",
          "text": [
            "Requirement already satisfied: nltk in /usr/local/lib/python3.10/dist-packages (3.8.1)\n",
            "Collecting fastdtw\n",
            "  Downloading fastdtw-0.3.4.tar.gz (133 kB)\n",
            "\u001b[2K     \u001b[90m━━━━━━━━━━━━━━━━━━━━━━━━━━━━━━━━━━━━━━━━\u001b[0m \u001b[32m133.4/133.4 kB\u001b[0m \u001b[31m2.8 MB/s\u001b[0m eta \u001b[36m0:00:00\u001b[0m\n",
            "\u001b[?25h  Preparing metadata (setup.py) ... \u001b[?25l\u001b[?25hdone\n",
            "Collecting dtaidistance\n",
            "  Downloading dtaidistance-2.3.11-cp310-cp310-manylinux_2_17_x86_64.manylinux2014_x86_64.whl (2.9 MB)\n",
            "\u001b[2K     \u001b[90m━━━━━━━━━━━━━━━━━━━━━━━━━━━━━━━━━━━━━━━━\u001b[0m \u001b[32m2.9/2.9 MB\u001b[0m \u001b[31m9.2 MB/s\u001b[0m eta \u001b[36m0:00:00\u001b[0m\n",
            "\u001b[?25hRequirement already satisfied: click in /usr/local/lib/python3.10/dist-packages (from nltk) (8.1.7)\n",
            "Requirement already satisfied: joblib in /usr/local/lib/python3.10/dist-packages (from nltk) (1.4.2)\n",
            "Requirement already satisfied: regex>=2021.8.3 in /usr/local/lib/python3.10/dist-packages (from nltk) (2023.12.25)\n",
            "Requirement already satisfied: tqdm in /usr/local/lib/python3.10/dist-packages (from nltk) (4.66.4)\n",
            "Requirement already satisfied: numpy in /usr/local/lib/python3.10/dist-packages (from fastdtw) (1.25.2)\n",
            "Building wheels for collected packages: fastdtw\n",
            "  Building wheel for fastdtw (setup.py) ... \u001b[?25l\u001b[?25hdone\n",
            "  Created wheel for fastdtw: filename=fastdtw-0.3.4-cp310-cp310-linux_x86_64.whl size=512610 sha256=91698958689363eeb2c25222548079220c16f0f4cffe4890c62cf39018a91b89\n",
            "  Stored in directory: /root/.cache/pip/wheels/73/c8/f7/c25448dab74c3acf4848bc25d513c736bb93910277e1528ef4\n",
            "Successfully built fastdtw\n",
            "Installing collected packages: fastdtw, dtaidistance\n",
            "Successfully installed dtaidistance-2.3.11 fastdtw-0.3.4\n"
          ]
        },
        {
          "output_type": "stream",
          "name": "stderr",
          "text": [
            "[nltk_data] Downloading package punkt to /root/nltk_data...\n",
            "[nltk_data]   Unzipping tokenizers/punkt.zip.\n"
          ]
        }
      ]
    },
    {
      "cell_type": "code",
      "source": [
        "# Tokenize sentences\n",
        "wiki_tokenized = [nltk.word_tokenize(sentence) for sentence in wiki_steps]\n",
        "llama_tokenized = [nltk.word_tokenize(sentence) for sentence in llama_steps]\n",
        "\n",
        "smoothing_function = SmoothingFunction().method1\n",
        "\n",
        "# BLEU score matrix\n",
        "bleu_matrix = np.zeros((len(wiki_steps), len(llama_steps)))\n",
        "\n",
        "for i, ref in enumerate(wiki_tokenized):\n",
        "    for j, hyp in enumerate(llama_tokenized):\n",
        "        bleu_matrix[i, j] = sentence_bleu([ref], hyp, smoothing_function=smoothing_function)\n",
        "\n",
        "# Display the BLEU similarity matrix as a DataFrame for better readability\n",
        "bleu_df = pd.DataFrame(bleu_matrix, index=[f\"wiki_{i}\" for i in range(len(wiki_steps))],\n",
        "                       columns=[f\"llama_{j}\" for j in range(len(llama_steps))])\n",
        "\n",
        "print(\"BLEU Similarity Matrix:\")\n",
        "print(bleu_df)"
      ],
      "metadata": {
        "colab": {
          "base_uri": "https://localhost:8080/"
        },
        "id": "SyjWra7e8FZ_",
        "outputId": "af8cb9e3-7b5b-4c1d-9fa6-fa39544701de"
      },
      "execution_count": 9,
      "outputs": [
        {
          "output_type": "stream",
          "name": "stdout",
          "text": [
            "BLEU Similarity Matrix:\n",
            "          llama_0   llama_1   llama_2   llama_3   llama_4   llama_5   llama_6  \\\n",
            "wiki_0   0.011130  0.047574  0.010284  0.096727  0.011326  0.005641  0.005960   \n",
            "wiki_1   0.010526  0.018368  0.009570  0.024575  0.010540  0.005098  0.005012   \n",
            "wiki_2   0.004978  0.008083  0.004089  0.010814  0.005927  0.005641  0.006596   \n",
            "wiki_3   0.009796  0.008083  0.009570  0.010814  0.010540  0.005098  0.005012   \n",
            "wiki_4   0.004978  0.003454  0.005382  0.004621  0.004504  0.004287  0.005012   \n",
            "wiki_5   0.004186  0.003454  0.004863  0.004621  0.005356  0.005098  0.005960   \n",
            "wiki_6   0.004978  0.004107  0.004863  0.005495  0.005356  0.005641  0.005960   \n",
            "wiki_7   0.004186  0.003454  0.004089  0.004621  0.004504  0.004287  0.005012   \n",
            "wiki_8   0.004978  0.004545  0.004089  0.006081  0.005927  0.005641  0.006596   \n",
            "wiki_9   0.011130  0.009184  0.010284  0.012288  0.011976  0.005641  0.006596   \n",
            "wiki_10  0.011130  0.018368  0.009570  0.024575  0.010540  0.005098  0.005012   \n",
            "wiki_11  0.009796  0.008686  0.009570  0.011621  0.023952  0.005641  0.005960   \n",
            "\n",
            "          llama_7   llama_8   llama_9  \n",
            "wiki_0   0.010172  0.062881  0.014118  \n",
            "wiki_1   0.009620  0.023361  0.014118  \n",
            "wiki_2   0.004549  0.010280  0.007174  \n",
            "wiki_3   0.008953  0.010280  0.014118  \n",
            "wiki_4   0.003825  0.005224  0.006032  \n",
            "wiki_5   0.003825  0.005224  0.006032  \n",
            "wiki_6   0.003825  0.010280  0.007174  \n",
            "wiki_7   0.003825  0.004392  0.006032  \n",
            "wiki_8   0.005034  0.005781  0.007174  \n",
            "wiki_9   0.009620  0.011680  0.016041  \n",
            "wiki_10  0.010172  0.024701  0.014118  \n",
            "wiki_11  0.009620  0.011047  0.014118  \n"
          ]
        }
      ]
    },
    {
      "cell_type": "code",
      "source": [
        "# Calculate the maximum BLEU score for each llama entry\n",
        "max_bleu_scores = np.max(bleu_matrix, axis=0)\n",
        "\n",
        "# Calculate the average of the maximum BLEU scores\n",
        "average_max_bleu = np.mean(max_bleu_scores)\n",
        "\n",
        "\n",
        "max_indices = np.argmax(bleu_matrix, axis=0)\n",
        "\n",
        "# Print the corresponding sentence matchups\n",
        "print(\"Maximum BLEU score sentence matchups:\")\n",
        "for j, max_index in enumerate(max_indices):\n",
        "    print(f\"LLama: {llama_steps[j]} -> Wiki: {wiki_steps[max_index]}\")\n",
        "\n",
        "print(\"\\nMaximum BLEU scores for each 'llama' entry:\")\n",
        "print(max_bleu_scores)\n",
        "print(\"\\nAverage of the maximum BLEU scores:\", average_max_bleu)"
      ],
      "metadata": {
        "colab": {
          "base_uri": "https://localhost:8080/"
        },
        "id": "dmJ7mYGY_juM",
        "outputId": "e5d5b95c-9bdb-4589-e105-2a84398c94e7"
      },
      "execution_count": 10,
      "outputs": [
        {
          "output_type": "stream",
          "name": "stdout",
          "text": [
            "Maximum BLEU score sentence matchups:\n",
            "LLama: Check for signs of teething: Before you can start soothing your baby, it's important to check for signs of teething. Look for symptoms such as drooling, gnawing or chewing on their hands, or swelling of the gums. -> Wiki: Rub your baby's gums with a clean finger.\n",
            "LLama: Provide a cold compress: One of the most effective ways to soothe a teething baby is to provide a cold compress. You can use a cold washcloth or a frozen teether toy. Place the compress on your baby's gums or cheek to help reduce swelling and ease discomfort. -> Wiki: Rub your baby's gums with a clean finger.\n",
            "LLama: Use over-the-counter pain relievers: If your baby is older than 6 months, you can try using over-the-counter pain relievers such as acetaminophen or ibuprofen. Always follow the recommended dosage instructions and consult with your pediatrician before giving your baby any medication. -> Wiki: Rub your baby's gums with a clean finger.\n",
            "LLama: Massage your baby's gums: Gently massaging your baby's gums with your finger can help to stimulate blood flow and ease discomfort. Use your index and middle fingers to massage the gums in a circular motion. -> Wiki: Rub your baby's gums with a clean finger.\n",
            "LLama: Try teething toys: Offer your baby a variety of teething toys, such as pacifiers, teether toys, or cold teething rings. These can help to distract your baby from the discomfort of teething and provide relief. -> Wiki: Prevent tooth decay by feeding your baby a healthy diet.\n",
            "LLama: Use aromatherapy: Some parents find that certain scents, such as lavender or peppermint, can help to soothe their teething baby. Try using a lavender-scented teether toy or adding a few drops of peppermint oil to a cold compress. -> Wiki: Rub your baby's gums with a clean finger.\n",
            "LLama: Try white noise: Some babies find the sound of white noise, such as a fan or a vacuum cleaner, to be soothing and can help to distract them from the discomfort of teething. -> Wiki: Invest in a teething device.\n",
            "LLama: Offer plenty of fluids: Teething can be a stressful and tiring experience for babies, so it's important to make sure they are well-hydrated. Offer your baby plenty of breast milk or formula, or encourage them to drink water from a sippy cup. -> Wiki: Rub your baby's gums with a clean finger.\n",
            "LLama: Try a teething gel: There are many teething gels available that can be applied to your baby's gums to help ease discomfort. Always follow the recommended dosage instructions and consult with your pediatrician before using any new products. -> Wiki: Rub your baby's gums with a clean finger.\n",
            "LLama: Practice skin-to-skin contact: Holding your baby close and skin-to-skin can help to soothe and calm them, and can also help to distract them from the discomfort of teething. -> Wiki: Take your baby to the dentist.\n",
            "\n",
            "Maximum BLEU scores for each 'llama' entry:\n",
            "[0.01113022 0.04757412 0.01028417 0.09672702 0.02395242 0.00564144\n",
            " 0.0065958  0.01017221 0.0628815  0.01604105]\n",
            "\n",
            "Average of the maximum BLEU scores: 0.02909999589249812\n"
          ]
        }
      ]
    },
    {
      "cell_type": "markdown",
      "source": [
        "Plot the maximum Bleu Scores"
      ],
      "metadata": {
        "id": "noJGDaB-NA5_"
      }
    },
    {
      "cell_type": "code",
      "source": [
        "import matplotlib.pyplot as plt\n",
        "\n",
        "# Plot the maximum BLEU scores\n",
        "plt.figure(figsize=(8, 6))\n",
        "plt.bar(range(len(llama_steps)), max_bleu_scores, color='skyblue')\n",
        "plt.xlabel('LLama Entry')\n",
        "plt.ylabel('BLEU Score')\n",
        "plt.title('Maximum BLEU Score - Role')\n",
        "plt.xticks(range(len(llama_steps)), ['Step ' + str(i+1) for i in range(len(llama_steps))], rotation=45)\n",
        "plt.ylim(0, 1)  # Set y-axis limit from 0 to 1\n",
        "plt.grid(axis='y', linestyle='--', alpha=0.7)\n",
        "plt.tight_layout()\n",
        "plt.show()"
      ],
      "metadata": {
        "colab": {
          "base_uri": "https://localhost:8080/",
          "height": 607
        },
        "id": "KuAIcWNjMQUH",
        "outputId": "2900c4bb-303f-4c6e-a83c-642ef41132e6"
      },
      "execution_count": 11,
      "outputs": [
        {
          "output_type": "display_data",
          "data": {
            "text/plain": [
              "<Figure size 800x600 with 1 Axes>"
            ],
            "image/png": "[encoded data removed]"
          },
          "metadata": {}
        }
      ]
    }
  ]
}